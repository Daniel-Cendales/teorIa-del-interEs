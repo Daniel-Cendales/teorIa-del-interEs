{
 "cells": [
  {
   "cell_type": "markdown",
   "id": "f6b96069-7a9f-4cda-b130-be57051673d5",
   "metadata": {},
   "source": [
    "<h1> Títulos de traspaso por agencias de hipotecas </h1> \n",
    "\n",
    "**Temario**\n",
    "\n",
    "1. [Definiciones](#def)  \n",
    "2. [Descripción general](#dg) <br>\n",
    "    2.1 [Ejemplo](#ejem)\n",
    "3. [Pagos adelantados: convenciones y flujos](#pa_cf) <br>\n",
    "    3.1 [Agencias](#ag)"
   ]
  },
  {
   "cell_type": "markdown",
   "id": "79588ed8-7207-4733-9dfe-6573b1c9920b",
   "metadata": {},
   "source": [
    "<a id = 'def'> </a>\n",
    "<h2> Definiciones </h2>\n",
    "\n",
    "- <span style = 'color:lightgreen'> **Hipoteca:** </span> acuerdo entre dos partes: prestatario y prestamista. Dicho acuerdo permite que el prestamista tenga derecho sobre la propiedad del prestatario si este último incumple con el pago de dinero o intereses.\n",
    "\n",
    "\n",
    "- <span style = 'color:lightgreen'> **Valor respaldado por hipotecas (MBS):** </span> estructura financiera que promete una serie de pagos que están repaldados por un conjunto de hipotecas.\n",
    "\n",
    "- <span style = 'color:lightgreen'> **Seguridad respaldada por hipoteca de residencias (RBMS):** </span> contratos creados cuando varios créditos hipotecarios se juntan para formar un fondo y después las obligaciones son canceladas por los pagos hechos por los prestatarios.\n",
    "\n",
    "*Nota:* cuando un crédito hipotecario se incluye en una **RMBS**, decimos que está *titulado*.\n",
    "\n",
    "En esta exposición nos basamos en los préstamos que satisfacen las condiciones estandarizadas de GINNIE, FANNIE MAE y FREDDIE MAC.\n",
    "\n",
    "*Nota:* un caso particular de las *RMBS* hace referencia a una *MBS*."
   ]
  },
  {
   "cell_type": "markdown",
   "id": "1b5774f4-0d22-4f89-9b5f-49366c70757c",
   "metadata": {},
   "source": [
    "<a id = 'dg'> </a>\n",
    "<h2> Descripción general </h2>\n",
    "\n",
    "- <span style = 'color:lightgreen'> **Pool factor:** </span> porcentaje del principal original que aún está pendiente. Inicia en 1 y decae con el tiempo. Publicado mensualmente.\n",
    "\n",
    "- <span style = 'color:lightgreen'> **Pass-Through copun rate:** </span> tasa ofrecida por las agencias en los contratos.\n",
    "\n",
    "- <span style = 'color:lightgreen'> **WAC:** </span> ponderación del interés del monto del prestatario, donde los pesos son proporcionales a la cantindad del monto.\n",
    "\n",
    "$$\\text{WAC} = \\frac{\\sum\\limits_{i}\\text{prestamo}_i\\cdot\\text{porcentaje}_i}{\\text{Monto total}}$$\n",
    "\n",
    "Donde $\\text{Monto total} = \\sum\\limits_{i}\\text{prestamo}_i$\n",
    "\n",
    "- <span style = 'color:lightgreen'> **WAM:** </span> promedio ponderado de los vencimientos de hipotecas en un valor respaldado por hipotecas.\n",
    "\n",
    "$$\\text{WAM} = \\sum\\limits_{i}\\text{tiempo del préstamo}_i\\cdot\\text{porcentaje del monto}_i$$\n",
    "\n",
    "Donde $\\text{Porcentaje del monto}_i = \\frac{\\text{Prestamo}_i}{\\text{Monto total}}$\n",
    "\n",
    "- <span style = 'color:lightgreen'> **WARM:** </span> suma de los tiempos de vencimiento sobre el total del tiempo.\n",
    "\n",
    "Ejemplo: FANNIE\n",
    "![](porcentajes_fannie.png)"
   ]
  },
  {
   "cell_type": "markdown",
   "id": "6529b713-babf-4996-a0bb-4e5da0990da8",
   "metadata": {},
   "source": [
    "<a id = 'pa_cf'> </a>\n",
    "<h2> Pagos adelantados: convenciones y flujos </h2>\n",
    "\n",
    "**Nota:** hay 3 metodologías para proyectar los pagos por adelantado (*velocidad de pagos adelantados*): \n",
    " 1. Administración federal de vivienda (FHA); <span style = 'color:red'>descontinuada.</span>\n",
    " 2. Tasa condicional de pagos adelantados (CPR).\n",
    " 3. Asociación de valores públicos (PSA). \n",
    "\n",
    "\n",
    "<h3> Tasa condicional de pagos adelantados (CPR) </h3>\n",
    "\n",
    "Supuesto en el que una fracción del principal restante se paga por adelantado cada mes por el resto del término de la hipoteca.\n",
    "\n",
    "- <span style = 'color:lightgreen'> **CPR:** </span> es una tasa anual de pagos adelantados. Esta se basa en las características del fondo (historial de experiencia en pagos adelantados, y el entorno económico actual y *futuro esperado*). Es condicional porque depende del balance del monto restante al inicio de cada mes.\n",
    "\n",
    "\n",
    "- <span style = 'color:lightgreen'> **Tasa de mortalidad mensual única (SMM):** </span> la tasa de pagos **mensuales** equivalentes a la tasa CPR.\n",
    "\n",
    "$$SMM = 1 -  \\sqrt[12]{1 - CPR}$$\n",
    "\n",
    "- <span style = 'color:lightgreen'> **Pagos adelantados mensuales bajo una única SMM ($k\\%$):** </span> aproximadamente $k\\%$ del total del balance al inicio del mes menos el pago programado se pagará por adelantado. El pago adelantado en el mes $t$ es igual a \n",
    "\n",
    "$$ = (\\text{Balance al inicio mes } t - \\text{Pago programado para  mes } t)\\times SMM$$\n",
    "\n",
    "*Ejemplo*: Un inversor posee un traspaso en el que el resto del balance al inicio del mes $t$ es $290,000,000$. Suponiendo que la $SMM$ es de $0,5143$ y el pago programado es de $3,000,000$ el valor estimado de pagos por adelantado es de:"
   ]
  },
  {
   "cell_type": "code",
   "execution_count": 3,
   "id": "467e6a0f-410b-4284-9df8-81837244503a",
   "metadata": {},
   "outputs": [
    {
     "data": {
      "text/html": [
       "1476041"
      ],
      "text/latex": [
       "1476041"
      ],
      "text/markdown": [
       "1476041"
      ],
      "text/plain": [
       "[1] 1476041"
      ]
     },
     "metadata": {},
     "output_type": "display_data"
    }
   ],
   "source": [
    "# Ejemplo: información del ejemplo\n",
    "\n",
    "# Cantidades dadas\n",
    "resto_al_inicio <- 290000000\n",
    "smm <- 0.005143\n",
    "pago_programado <- 3000000\n",
    "\n",
    "# Estimación de pagos por adelantado:\n",
    "(pagos_adelantados <- (resto_al_inicio - pago_programado)*smm)"
   ]
  },
  {
   "cell_type": "markdown",
   "id": "1aebd0e5-a917-4d15-adc5-075f2a41bb1c",
   "metadata": {},
   "source": [
    "- <span style = 'color:lightgreen'> **Punto de referencia de pago hipotecario anticipado:** </span> serie de tasas de prepago anuales. Tasas bajas para nuevas hipotecas y crecen a medida que las hipotecas maduran.\n",
    "\n",
    "**Modelo de desarrollo**\n",
    "\n",
    "$$CPR_t = \\left\\{\\begin{array}{cc}\n",
    "\\frac{6t}{30}\\% & \\text{, si } t\\leq 30 \\\\\n",
    "6\\% & \\text{, si } t > 30 \n",
    "\\end{array}\\right.$$\n",
    "\n",
    "![](crecimiento_cpr.png)\n",
    "\n",
    "$\\implies SMM = 1 - \\sqrt[12]{1 - CPR_t}$"
   ]
  },
  {
   "cell_type": "code",
   "execution_count": null,
   "id": "65057124-f699-4c50-85de-9c90c372ce1f",
   "metadata": {},
   "outputs": [],
   "source": []
  }
 ],
 "metadata": {
  "kernelspec": {
   "display_name": "R",
   "language": "R",
   "name": "ir"
  },
  "language_info": {
   "codemirror_mode": "r",
   "file_extension": ".r",
   "mimetype": "text/x-r-source",
   "name": "R",
   "pygments_lexer": "r",
   "version": "4.2.1"
  }
 },
 "nbformat": 4,
 "nbformat_minor": 5
}
